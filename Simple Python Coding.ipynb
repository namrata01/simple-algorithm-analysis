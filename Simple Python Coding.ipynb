{
 "cells": [
  {
   "cell_type": "code",
   "execution_count": 31,
   "metadata": {},
   "outputs": [
    {
     "name": "stdout",
     "output_type": "stream",
     "text": [
      "True\n",
      "True\n",
      "False\n"
     ]
    }
   ],
   "source": [
    "def binarySearch( mylist,item ):\n",
    "    first = 0\n",
    "    last = len(mylist) -1\n",
    "    found = False\n",
    "    \n",
    "    while (first <= last and found==False):\n",
    "        middle = (first + last)//2\n",
    "        if (mylist[middle]==item):\n",
    "            found = True\n",
    "        else:\n",
    "            if (item < mylist[middle]):\n",
    "                return binarySearch(mylist[:middle-1],item)\n",
    "            else:\n",
    "                return binarySearch(mylist[middle+1:],item)\n",
    "    \n",
    "    return found\n",
    "\n",
    "mylist = [1,4,6,8,11,15,18,22,34,54,69]\n",
    "print binarySearch(mylist,69)    \n",
    "print binarySearch(mylist,6)  \n",
    "print binarySearch(mylist,5)  \n",
    "    \n",
    "    "
   ]
  },
  {
   "cell_type": "code",
   "execution_count": 28,
   "metadata": {},
   "outputs": [
    {
     "name": "stdout",
     "output_type": "stream",
     "text": [
      "True\n"
     ]
    }
   ],
   "source": [
    "def binarySearch( mylist,item ):\n",
    "    first = 0\n",
    "    last = len(mylist) -1\n",
    "    found = False\n",
    "    \n",
    "    while (first <= last and found==False):\n",
    "        middle = (first + last)//2\n",
    "        if (mylist[middle]==item):\n",
    "            found = True\n",
    "        else:\n",
    "            if (item < mylist[middle]):\n",
    "                last = middle - 1\n",
    "            else:\n",
    "                first = middle + 1\n",
    "    \n",
    "    return found\n",
    "\n",
    "mylist = [1,2,3,4,5,6,7]\n",
    "print binarySearch(mylist,2)      \n",
    "    "
   ]
  },
  {
   "cell_type": "code",
   "execution_count": 7,
   "metadata": {},
   "outputs": [
    {
     "name": "stdout",
     "output_type": "stream",
     "text": [
      "-0.91492637278\n"
     ]
    }
   ],
   "source": [
    "import math\n",
    "\n",
    "x = 0.67*math.log(0.67,2) + 0.33*math.log(0.33,2)\n",
    "print x"
   ]
  },
  {
   "cell_type": "code",
   "execution_count": 8,
   "metadata": {},
   "outputs": [
    {
     "name": "stdout",
     "output_type": "stream",
     "text": [
      "-1.0\n"
     ]
    }
   ],
   "source": [
    "import math\n",
    "\n",
    "x = 0.5*math.log(0.5,2) + 0.5*math.log(0.5,2)\n",
    "print x"
   ]
  },
  {
   "cell_type": "code",
   "execution_count": 6,
   "metadata": {},
   "outputs": [
    {
     "name": "stdout",
     "output_type": "stream",
     "text": [
      "[0, 1, 2, 3, 4, 5]\n"
     ]
    }
   ],
   "source": [
    "def insertionSort(mylist):\n",
    "    for i in range(1,len(mylist)):\n",
    "        key = mylist[i]\n",
    "        j = i-1\n",
    "        while (mylist[j]>key and j>=0):\n",
    "            mylist[j+1]=mylist[j]\n",
    "            j=j-1\n",
    "        mylist[j+1]=key\n",
    "    print mylist\n",
    "\n",
    "mylist = [3,2,1,5,4,0]\n",
    "insertionSort(mylist)"
   ]
  },
  {
   "cell_type": "code",
   "execution_count": null,
   "metadata": {
    "collapsed": true
   },
   "outputs": [],
   "source": []
  }
 ],
 "metadata": {
  "kernelspec": {
   "display_name": "Python 2",
   "language": "python",
   "name": "python2"
  },
  "language_info": {
   "codemirror_mode": {
    "name": "ipython",
    "version": 2
   },
   "file_extension": ".py",
   "mimetype": "text/x-python",
   "name": "python",
   "nbconvert_exporter": "python",
   "pygments_lexer": "ipython2",
   "version": "2.7.13"
  }
 },
 "nbformat": 4,
 "nbformat_minor": 2
}
